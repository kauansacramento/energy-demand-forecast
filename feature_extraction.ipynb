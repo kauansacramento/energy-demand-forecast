{
 "cells": [
  {
   "cell_type": "markdown",
   "id": "241f004d-dffb-496d-97c2-8f58a21d0882",
   "metadata": {},
   "source": [
    "## Import Libraries"
   ]
  },
  {
   "cell_type": "code",
   "execution_count": 1,
   "id": "f6e8a760-64aa-49f6-9abc-15a2ed605e91",
   "metadata": {},
   "outputs": [],
   "source": [
    "import pandas as pd\n",
    "import numpy as np\n",
    "import glob\n",
    "import datetime"
   ]
  },
  {
   "cell_type": "code",
   "execution_count": 54,
   "id": "508ee6a9-6045-48b3-af7c-7a9482b2fe7d",
   "metadata": {},
   "outputs": [],
   "source": [
    "import warnings\n",
    "warnings.filterwarnings(\"ignore\")"
   ]
  },
  {
   "cell_type": "code",
   "execution_count": 2,
   "id": "a2fed7a9-bdea-4164-bdc9-0899be15a960",
   "metadata": {},
   "outputs": [],
   "source": [
    "pd.set_option('display.max_rows', 500)\n",
    "pd.set_option('display.max_columns', 500)"
   ]
  },
  {
   "cell_type": "markdown",
   "id": "20ef9d53-02ef-45c6-a9cb-aafb9690940e",
   "metadata": {},
   "source": [
    "## Helper Functions"
   ]
  },
  {
   "cell_type": "code",
   "execution_count": 3,
   "id": "7de457f5-2904-4d23-b9b8-04b7c6136771",
   "metadata": {},
   "outputs": [],
   "source": [
    "def filter_dataframes(path, min_date):\n",
    "    '''\n",
    "    Return the concated dataframe for all the files in a folder with some filters over date and columns\n",
    "    \n",
    "    path: folder path (str)\n",
    "    min_date: minimum date (str YYYY-MM-DD)\n",
    "    '''\n",
    "    \n",
    "    appended_data = []\n",
    "    \n",
    "    for filename in glob.glob(f'{path}*.csv'):\n",
    "        \n",
    "        file = filename.split('\\\\')[1]\n",
    "        print('reading:', file)\n",
    "        \n",
    "        df = pd.read_csv(path + file)\n",
    "        df['Data'] = pd.to_datetime(df['Data'])\n",
    "        \n",
    "        min_date = pd.to_datetime(min_date)\n",
    "        \n",
    "        df = df[df['Data'] >= min_date ].drop(columns=['index', 'state', 'station', 'station_code', 'latitude', 'longitude', 'height'])\n",
    "        \n",
    "        appended_data.append(df) \n",
    "        \n",
    "    return pd.concat(appended_data)"
   ]
  },
  {
   "cell_type": "markdown",
   "id": "ac283637-091f-4849-9134-70d5b0ce5ab0",
   "metadata": {},
   "source": [
    "## Readind Weather Data"
   ]
  },
  {
   "cell_type": "code",
   "execution_count": 4,
   "id": "afd30e01-2c03-4ed9-90af-6d825335678b",
   "metadata": {},
   "outputs": [
    {
     "name": "stdout",
     "output_type": "stream",
     "text": [
      "reading: central_west.csv\n",
      "reading: north.csv\n",
      "reading: northeast.csv\n",
      "reading: south.csv\n",
      "reading: southeast.csv\n"
     ]
    }
   ],
   "source": [
    "df_weather = filter_dataframes('original_bases/', '2017-01-01')"
   ]
  },
  {
   "cell_type": "code",
   "execution_count": 5,
   "id": "2b70530c-5e9d-4df6-be16-62f53f83197e",
   "metadata": {},
   "outputs": [
    {
     "name": "stdout",
     "output_type": "stream",
     "text": [
      "treating data for PRECIPITAÇÃO TOTAL, HORÁRIO (mm) New min value = 0.0\n",
      "treating data for PRESSAO ATMOSFERICA AO NIVEL DA ESTACAO, HORARIA (mB) New min value = 720.1\n",
      "treating data for PRESSÃO ATMOSFERICA MAX.NA HORA ANT. (AUT) (mB) New min value = 720.3\n",
      "treating data for PRESSÃO ATMOSFERICA MIN. NA HORA ANT. (AUT) (mB) New min value = 720.0\n",
      "treating data for RADIACAO GLOBAL (Kj/m²) New min value = 0\n",
      "treating data for TEMPERATURA DO AR - BULBO SECO, HORARIA (°C) New min value = -9.0\n",
      "treating data for TEMPERATURA DO PONTO DE ORVALHO (°C) New min value = -42.5\n",
      "treating data for TEMPERATURA MÁXIMA NA HORA ANT. (AUT) (°C) New min value = -8.2\n",
      "treating data for TEMPERATURA MÍNIMA NA HORA ANT. (AUT) (°C) New min value = -8.6\n",
      "treating data for TEMPERATURA ORVALHO MAX. NA HORA ANT. (AUT) (°C) New min value = -35.0\n",
      "treating data for TEMPERATURA ORVALHO MIN. NA HORA ANT. (AUT) (°C) New min value = -35.0\n",
      "treating data for UMIDADE REL. MAX. NA HORA ANT. (AUT) (%) New min value = 3\n",
      "treating data for UMIDADE REL. MIN. NA HORA ANT. (AUT) (%) New min value = 5\n",
      "treating data for UMIDADE RELATIVA DO AR, HORARIA (%) New min value = 6\n",
      "treating data for VENTO, DIREÇÃO HORARIA (gr) (° (gr)) New min value = 0\n",
      "treating data for VENTO, RAJADA MAXIMA (m/s) New min value = 0.0\n",
      "treating data for VENTO, VELOCIDADE HORARIA (m/s) New min value = 0.0\n"
     ]
    }
   ],
   "source": [
    "# Treating invalid information for columns\n",
    "\n",
    "for col in df_weather.drop(columns=['Data', 'Hora', 'region']).columns:\n",
    "    \n",
    "    print(f'treating data for {col}', end=' ')\n",
    "    min_value = df_weather[col].min()\n",
    "    \n",
    "    df_weather = df_weather[df_weather[col]!=min_value]\n",
    "    \n",
    "    print(f'New min value = {df_weather[col].min()}')"
   ]
  },
  {
   "cell_type": "code",
   "execution_count": 6,
   "id": "a07743ae-299b-41c5-84dc-1d8ecd0d5f37",
   "metadata": {},
   "outputs": [],
   "source": [
    "# Fixing Dtype for Hour column\n",
    "\n",
    "df_weather['Hora'] = pd.to_datetime(df_weather['Hora']).dt.hour"
   ]
  },
  {
   "cell_type": "code",
   "execution_count": 7,
   "id": "cd47d21c-48f4-4a1e-933e-8953023c439c",
   "metadata": {},
   "outputs": [],
   "source": [
    "df_left = df_weather.drop(columns=['PRECIPITAÇÃO TOTAL, HORÁRIO (mm)']).groupby(['Data', 'Hora']).mean(numeric_only=True).reset_index()\n",
    "df_right = df_weather.groupby(['Data', 'Hora'])[['PRECIPITAÇÃO TOTAL, HORÁRIO (mm)']].sum(numeric_only=True).reset_index()\n",
    "\n",
    "df_weather = pd.merge(df_left, df_right, how='inner', on=['Data', 'Hora'])\n",
    "del df_left, df_right"
   ]
  },
  {
   "cell_type": "markdown",
   "id": "2e5b912a",
   "metadata": {
    "tags": []
   },
   "source": [
    "### Read Population Data"
   ]
  },
  {
   "cell_type": "code",
   "execution_count": 8,
   "id": "ba425a8c",
   "metadata": {
    "scrolled": true
   },
   "outputs": [],
   "source": [
    "df_pop = pd.read_csv('original_bases/populacao_municipio.csv')\n",
    "df_pop = df_pop.groupby(\"ano\")[[\"populacao\"]].sum().reset_index()"
   ]
  },
  {
   "cell_type": "code",
   "execution_count": 9,
   "id": "3ac82885",
   "metadata": {},
   "outputs": [],
   "source": [
    "df_pop[\"last_year\"] = df_pop[\"ano\"]-1\n",
    "df_pop = df_pop.merge(df_pop, how='inner',left_on='last_year',right_on='ano',suffixes=('', '_passado'))\n",
    "df_pop = df_pop.drop(columns=[\"last_year\",\"ano_passado\",\"last_year_passado\"])\n",
    "df_pop = df_pop[df_pop[\"ano\"]>=2017]\n",
    "df_pop[\"variacao\"]=df_pop[\"populacao\"]-df_pop[\"populacao_passado\"]"
   ]
  },
  {
   "cell_type": "code",
   "execution_count": 10,
   "id": "f1085153",
   "metadata": {},
   "outputs": [],
   "source": [
    "df_data = df_weather[[\"Data\"]].drop_duplicates()\n",
    "df_data[\"year\"] = df_data[\"Data\"].dt.year"
   ]
  },
  {
   "cell_type": "code",
   "execution_count": 11,
   "id": "833255af",
   "metadata": {},
   "outputs": [],
   "source": [
    "df_pop = df_pop.merge(df_data, how='inner',left_on='ano',right_on='year',suffixes=('', ''))\n",
    "df_pop = df_pop.drop(columns=[\"year\"])"
   ]
  },
  {
   "cell_type": "code",
   "execution_count": 12,
   "id": "9721a083",
   "metadata": {},
   "outputs": [],
   "source": [
    "df_pop[\"day_of_year\"]=df_pop[\"Data\"].dt.day_of_year\n",
    "df_pop[\"populacao_dia\"]=df_pop[\"populacao_passado\"] + df_pop[\"day_of_year\"]*df_pop[\"variacao\"]/365"
   ]
  },
  {
   "cell_type": "markdown",
   "id": "dcedebfa-893c-47f8-9a51-5cabe49dd65c",
   "metadata": {},
   "source": [
    "### Read Industry production"
   ]
  },
  {
   "cell_type": "code",
   "execution_count": 142,
   "id": "b8b5d9ba-06aa-4886-aacc-3a2d8738e858",
   "metadata": {},
   "outputs": [],
   "source": [
    "df_industry = pd.read_csv('original_bases/industry_ibge.csv', sep=';', ).reset_index()"
   ]
  },
  {
   "cell_type": "code",
   "execution_count": 143,
   "id": "01fcfa87-6bb5-42aa-863d-9de32b130009",
   "metadata": {},
   "outputs": [],
   "source": [
    "df_industry = df_industry.transpose().reset_index(drop=True).drop(columns=4)"
   ]
  },
  {
   "cell_type": "code",
   "execution_count": 144,
   "id": "f6216f6a-73e2-4719-b63e-8515a467a778",
   "metadata": {},
   "outputs": [],
   "source": [
    "df_industry = df_industry.rename(columns={0:'Data', \n",
    "                                          1: 'industria_geral', \n",
    "                                          2: 'industria_extrativa', \n",
    "                                          3:'industria_transformacao'})[2:].reset_index(drop=True)"
   ]
  },
  {
   "cell_type": "code",
   "execution_count": 145,
   "id": "9ec4cefe-75b1-40d5-8655-c57082ada83c",
   "metadata": {},
   "outputs": [],
   "source": [
    "df_industry['Data'] = df_industry['Data'].apply(lambda x: x.split(' '))\n",
    "df_industry['ano'] = df_industry['Data'].apply(lambda x: x[1])\n",
    "df_industry['mes'] = df_industry['Data'].apply(lambda x: x[0])"
   ]
  },
  {
   "cell_type": "code",
   "execution_count": 146,
   "id": "372c02ca-1acf-4d23-b10a-6d19c11eb21c",
   "metadata": {},
   "outputs": [],
   "source": [
    "df_industry['mes'] = df_industry['mes'].apply(lambda x: 'january' if x=='janeiro' else \n",
    "                                    ('february' if x=='fevereiro' else \n",
    "                                    ('march' if x=='março' else\n",
    "                                    ('april' if x=='abril' else\n",
    "                                    ('may' if x=='maio' else\n",
    "                                    ('june' if x=='junho' else\n",
    "                                    ('july' if x=='julho' else\n",
    "                                    ('august' if x=='agosto' else\n",
    "                                    ('september' if x=='setembro' else\n",
    "                                    ('october' if x=='outubro' else\n",
    "                                    ('november' if x=='novembro' else\n",
    "                                    ('december' if x=='dezembro' else x))))))))))))"
   ]
  },
  {
   "cell_type": "code",
   "execution_count": 147,
   "id": "b949cfe0-579a-458e-881f-3c1d22d0a3de",
   "metadata": {},
   "outputs": [],
   "source": [
    "df_industry['Data'] = df_industry['mes'] + '/' + df_industry['ano']\n",
    "df_industry['Data'] = pd.to_datetime(df_industry['Data'])"
   ]
  },
  {
   "cell_type": "code",
   "execution_count": 148,
   "id": "51b6df8e-3d9a-44ae-8102-a21f751278c8",
   "metadata": {},
   "outputs": [],
   "source": [
    "df_industry['ano'] = df_industry['Data'].dt.year\n",
    "df_industry['mes'] = df_industry['Data'].dt.month"
   ]
  },
  {
   "cell_type": "markdown",
   "id": "88af028d-ac16-4062-a6ab-7569270120ee",
   "metadata": {},
   "source": [
    "### Acquiring target information"
   ]
  },
  {
   "cell_type": "code",
   "execution_count": 114,
   "id": "b3e76183-4a1d-4b73-986e-6ebc83f4583b",
   "metadata": {},
   "outputs": [],
   "source": [
    "df_target = pd.read_csv('original_bases/energy_demand_hourly_brazil.csv')"
   ]
  },
  {
   "cell_type": "code",
   "execution_count": 115,
   "id": "e798d988-57f8-4532-9f46-214b3efbdbe5",
   "metadata": {},
   "outputs": [],
   "source": [
    "df_target['Data'] = pd.to_datetime(df_target['index'])"
   ]
  },
  {
   "cell_type": "code",
   "execution_count": 116,
   "id": "6a9e7da7-248a-4064-943f-3e2bae85287a",
   "metadata": {},
   "outputs": [],
   "source": [
    "df_target['index'] = df_target['index'].apply(lambda x: x.split()[0])"
   ]
  },
  {
   "cell_type": "code",
   "execution_count": 117,
   "id": "f3bc8476-088f-4fa3-9fc1-a671bf4b9085",
   "metadata": {},
   "outputs": [],
   "source": [
    "df_target['Hora'] = df_target['Data'].dt.hour"
   ]
  },
  {
   "cell_type": "code",
   "execution_count": 118,
   "id": "a9a6d85e-cf52-41fe-9335-430fee775cc6",
   "metadata": {},
   "outputs": [],
   "source": [
    "df_target['Data'] = pd.to_datetime(df_target['index'])"
   ]
  },
  {
   "cell_type": "code",
   "execution_count": 119,
   "id": "07decd9b-f24b-44a2-87e7-220e43aeb9fc",
   "metadata": {},
   "outputs": [],
   "source": [
    "df_target.drop(columns=['index'], inplace=True)"
   ]
  },
  {
   "cell_type": "markdown",
   "id": "c9bea5d0-e0cf-4eee-b4ed-0a9f47b4997f",
   "metadata": {},
   "source": [
    "## Joining bases"
   ]
  },
  {
   "cell_type": "code",
   "execution_count": 166,
   "id": "bb56adad-24e7-4f98-be69-7b2db2b3d62e",
   "metadata": {},
   "outputs": [],
   "source": [
    "df_final = pd.merge(df_target, df_weather, how='inner', on=['Data', 'Hora'])"
   ]
  },
  {
   "cell_type": "code",
   "execution_count": 167,
   "id": "fb977a3b",
   "metadata": {},
   "outputs": [],
   "source": [
    "df_final = pd.merge(df_final, df_pop[['Data','populacao_dia']], how='inner', on=['Data'])"
   ]
  },
  {
   "cell_type": "code",
   "execution_count": 168,
   "id": "1c5d0be1-1983-4a2b-a8a2-f9a290af568e",
   "metadata": {},
   "outputs": [],
   "source": [
    "df_final['ano'] = df_final['Data'].dt.year\n",
    "df_final['mes'] = df_final['Data'].dt.month"
   ]
  },
  {
   "cell_type": "code",
   "execution_count": 169,
   "id": "aa7998ac-9fed-42d4-952a-87c63c11e89f",
   "metadata": {},
   "outputs": [],
   "source": [
    "df_final = pd.merge(df_final, df_industry.drop(columns=['Data']), how='inner', on=['mes', 'ano'])"
   ]
  },
  {
   "cell_type": "code",
   "execution_count": 170,
   "id": "3170822a-748e-4e3b-aba2-4dafc3a41d9e",
   "metadata": {},
   "outputs": [],
   "source": [
    "df_final.to_csv('df_final.csv', index=False)"
   ]
  }
 ],
 "metadata": {
  "kernelspec": {
   "display_name": "Python 3 (ipykernel)",
   "language": "python",
   "name": "python3"
  },
  "language_info": {
   "codemirror_mode": {
    "name": "ipython",
    "version": 3
   },
   "file_extension": ".py",
   "mimetype": "text/x-python",
   "name": "python",
   "nbconvert_exporter": "python",
   "pygments_lexer": "ipython3",
   "version": "3.10.9"
  }
 },
 "nbformat": 4,
 "nbformat_minor": 5
}
