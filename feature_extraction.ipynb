{
 "cells": [
  {
   "cell_type": "markdown",
   "id": "241f004d-dffb-496d-97c2-8f58a21d0882",
   "metadata": {},
   "source": [
    "## Import Libraries"
   ]
  },
  {
   "cell_type": "code",
   "execution_count": 45,
   "id": "f6e8a760-64aa-49f6-9abc-15a2ed605e91",
   "metadata": {},
   "outputs": [],
   "source": [
    "import pandas as pd\n",
    "import numpy as np\n",
    "import glob\n",
    "import datetime"
   ]
  },
  {
   "cell_type": "code",
   "execution_count": 2,
   "id": "a2fed7a9-bdea-4164-bdc9-0899be15a960",
   "metadata": {},
   "outputs": [],
   "source": [
    "pd.set_option('display.max_rows', 500)\n",
    "pd.set_option('display.max_columns', 500)"
   ]
  },
  {
   "cell_type": "markdown",
   "id": "20ef9d53-02ef-45c6-a9cb-aafb9690940e",
   "metadata": {},
   "source": [
    "## Helper Functions"
   ]
  },
  {
   "cell_type": "code",
   "execution_count": 3,
   "id": "7de457f5-2904-4d23-b9b8-04b7c6136771",
   "metadata": {},
   "outputs": [],
   "source": [
    "def filter_dataframes(path, min_date):\n",
    "    '''\n",
    "    Return the concated dataframe for all the files in a folder with some filters over date and columns\n",
    "    \n",
    "    path: folder path (str)\n",
    "    min_date: minimum date (str YYYY-MM-DD)\n",
    "    '''\n",
    "    \n",
    "    appended_data = []\n",
    "    \n",
    "    for filename in glob.glob(f'{path}*.csv'):\n",
    "        \n",
    "        file = filename.split('\\\\')[1]\n",
    "        print('reading:', file)\n",
    "        \n",
    "        df = pd.read_csv(path + file)\n",
    "        df['Data'] = pd.to_datetime(df['Data'])\n",
    "        \n",
    "        min_date = pd.to_datetime(min_date)\n",
    "        \n",
    "        df = df[df['Data'] >= min_date ].drop(columns=['index', 'state', 'station', 'station_code', 'latitude', 'longitude', 'height'])\n",
    "        \n",
    "        appended_data.append(df) \n",
    "        \n",
    "    return pd.concat(appended_data)"
   ]
  },
  {
   "cell_type": "markdown",
   "id": "ac283637-091f-4849-9134-70d5b0ce5ab0",
   "metadata": {},
   "source": [
    "## Readind Weather Data"
   ]
  },
  {
   "cell_type": "code",
   "execution_count": 4,
   "id": "afd30e01-2c03-4ed9-90af-6d825335678b",
   "metadata": {},
   "outputs": [
    {
     "name": "stdout",
     "output_type": "stream",
     "text": [
      "reading: central_west.csv\n",
      "reading: north.csv\n",
      "reading: northeast.csv\n",
      "reading: south.csv\n",
      "reading: southeast.csv\n"
     ]
    }
   ],
   "source": [
    "df_weather = filter_dataframes('original_bases/', '2017-01-01')"
   ]
  },
  {
   "cell_type": "code",
   "execution_count": 5,
   "id": "2b70530c-5e9d-4df6-be16-62f53f83197e",
   "metadata": {},
   "outputs": [
    {
     "name": "stdout",
     "output_type": "stream",
     "text": [
      "treating data for PRECIPITAÇÃO TOTAL, HORÁRIO (mm) New min value = 0.0\n",
      "treating data for PRESSAO ATMOSFERICA AO NIVEL DA ESTACAO, HORARIA (mB) New min value = 720.1\n",
      "treating data for PRESSÃO ATMOSFERICA MAX.NA HORA ANT. (AUT) (mB) New min value = 720.3\n",
      "treating data for PRESSÃO ATMOSFERICA MIN. NA HORA ANT. (AUT) (mB) New min value = 720.0\n",
      "treating data for RADIACAO GLOBAL (Kj/m²) New min value = 0\n",
      "treating data for TEMPERATURA DO AR - BULBO SECO, HORARIA (°C) New min value = -9.0\n",
      "treating data for TEMPERATURA DO PONTO DE ORVALHO (°C) New min value = -42.5\n",
      "treating data for TEMPERATURA MÁXIMA NA HORA ANT. (AUT) (°C) New min value = -8.2\n",
      "treating data for TEMPERATURA MÍNIMA NA HORA ANT. (AUT) (°C) New min value = -8.6\n",
      "treating data for TEMPERATURA ORVALHO MAX. NA HORA ANT. (AUT) (°C) New min value = -35.0\n",
      "treating data for TEMPERATURA ORVALHO MIN. NA HORA ANT. (AUT) (°C) New min value = -35.0\n",
      "treating data for UMIDADE REL. MAX. NA HORA ANT. (AUT) (%) New min value = 3\n",
      "treating data for UMIDADE REL. MIN. NA HORA ANT. (AUT) (%) New min value = 5\n",
      "treating data for UMIDADE RELATIVA DO AR, HORARIA (%) New min value = 6\n",
      "treating data for VENTO, DIREÇÃO HORARIA (gr) (° (gr)) New min value = 0\n",
      "treating data for VENTO, RAJADA MAXIMA (m/s) New min value = 0.0\n",
      "treating data for VENTO, VELOCIDADE HORARIA (m/s) New min value = 0.0\n"
     ]
    }
   ],
   "source": [
    "# Treating invalid information for columns\n",
    "\n",
    "for col in df_weather.drop(columns=['Data', 'Hora', 'region']).columns:\n",
    "    \n",
    "    print(f'treating data for {col}', end=' ')\n",
    "    min_value = df_weather[col].min()\n",
    "    \n",
    "    df_weather = df_weather[df_weather[col]!=min_value]\n",
    "    \n",
    "    print(f'New min value = {df_weather[col].min()}')"
   ]
  },
  {
   "cell_type": "code",
   "execution_count": 6,
   "id": "a07743ae-299b-41c5-84dc-1d8ecd0d5f37",
   "metadata": {},
   "outputs": [],
   "source": [
    "# Fixing Dtype for Hour column\n",
    "\n",
    "df_weather['Hora'] = pd.to_datetime(df_weather['Hora']).dt.hour"
   ]
  },
  {
   "cell_type": "code",
   "execution_count": 7,
   "id": "cd47d21c-48f4-4a1e-933e-8953023c439c",
   "metadata": {},
   "outputs": [],
   "source": [
    "df_left = df_weather.drop(columns=['PRECIPITAÇÃO TOTAL, HORÁRIO (mm)']).groupby(['Data', 'Hora']).mean(numeric_only=True).reset_index()\n",
    "df_right = df_weather.groupby(['Data', 'Hora'])[['PRECIPITAÇÃO TOTAL, HORÁRIO (mm)']].sum(numeric_only=True).reset_index()\n",
    "\n",
    "df_weather = pd.merge(df_left, df_right, how='inner', on=['Data', 'Hora'])\n",
    "del df_left, df_right"
   ]
  },
  {
   "cell_type": "markdown",
   "id": "2e5b912a",
   "metadata": {},
   "source": [
    "### Read Population Data"
   ]
  },
  {
   "cell_type": "code",
   "execution_count": 68,
   "id": "ba425a8c",
   "metadata": {
    "scrolled": true
   },
   "outputs": [],
   "source": [
    "df_pop = pd.read_csv('populacao_municipio.csv')\n",
    "df_pop = df_pop.groupby(\"ano\")[[\"populacao\"]].sum().reset_index()"
   ]
  },
  {
   "cell_type": "code",
   "execution_count": 69,
   "id": "3ac82885",
   "metadata": {},
   "outputs": [],
   "source": [
    "df_pop[\"last_year\"] = df_pop[\"ano\"]-1\n",
    "df_pop = df_pop.merge(df_pop, how='inner',left_on='last_year',right_on='ano',suffixes=('', '_passado'))\n",
    "df_pop = df_pop.drop(columns=[\"last_year\",\"ano_passado\",\"last_year_passado\"])\n",
    "df_pop = df_pop[df_pop[\"ano\"]>=2017]\n",
    "df_pop[\"variacao\"]=df_pop[\"populacao\"]-df_pop[\"populacao_passado\"]"
   ]
  },
  {
   "cell_type": "code",
   "execution_count": 70,
   "id": "f1085153",
   "metadata": {},
   "outputs": [],
   "source": [
    "df_data = df_weather[[\"Data\"]].drop_duplicates()\n",
    "df_data[\"year\"] = df_data[\"Data\"].dt.year"
   ]
  },
  {
   "cell_type": "code",
   "execution_count": 71,
   "id": "833255af",
   "metadata": {},
   "outputs": [],
   "source": [
    "df_pop = df_pop.merge(df_data, how='inner',left_on='ano',right_on='year',suffixes=('', ''))\n",
    "df_pop = df_pop.drop(columns=[\"year\"])"
   ]
  },
  {
   "cell_type": "code",
   "execution_count": 73,
   "id": "9721a083",
   "metadata": {},
   "outputs": [
    {
     "data": {
      "text/html": [
       "<div>\n",
       "<style scoped>\n",
       "    .dataframe tbody tr th:only-of-type {\n",
       "        vertical-align: middle;\n",
       "    }\n",
       "\n",
       "    .dataframe tbody tr th {\n",
       "        vertical-align: top;\n",
       "    }\n",
       "\n",
       "    .dataframe thead th {\n",
       "        text-align: right;\n",
       "    }\n",
       "</style>\n",
       "<table border=\"1\" class=\"dataframe\">\n",
       "  <thead>\n",
       "    <tr style=\"text-align: right;\">\n",
       "      <th></th>\n",
       "      <th>ano</th>\n",
       "      <th>populacao</th>\n",
       "      <th>populacao_passado</th>\n",
       "      <th>variacao</th>\n",
       "      <th>Data</th>\n",
       "      <th>day_of_year</th>\n",
       "      <th>populacao_dia</th>\n",
       "    </tr>\n",
       "  </thead>\n",
       "  <tbody>\n",
       "    <tr>\n",
       "      <th>0</th>\n",
       "      <td>2017</td>\n",
       "      <td>207660929.0</td>\n",
       "      <td>206081432.0</td>\n",
       "      <td>1579497.0</td>\n",
       "      <td>2017-01-01</td>\n",
       "      <td>1</td>\n",
       "      <td>2.060858e+08</td>\n",
       "    </tr>\n",
       "    <tr>\n",
       "      <th>1</th>\n",
       "      <td>2017</td>\n",
       "      <td>207660929.0</td>\n",
       "      <td>206081432.0</td>\n",
       "      <td>1579497.0</td>\n",
       "      <td>2017-01-02</td>\n",
       "      <td>2</td>\n",
       "      <td>2.060901e+08</td>\n",
       "    </tr>\n",
       "    <tr>\n",
       "      <th>2</th>\n",
       "      <td>2017</td>\n",
       "      <td>207660929.0</td>\n",
       "      <td>206081432.0</td>\n",
       "      <td>1579497.0</td>\n",
       "      <td>2017-01-03</td>\n",
       "      <td>3</td>\n",
       "      <td>2.060944e+08</td>\n",
       "    </tr>\n",
       "    <tr>\n",
       "      <th>3</th>\n",
       "      <td>2017</td>\n",
       "      <td>207660929.0</td>\n",
       "      <td>206081432.0</td>\n",
       "      <td>1579497.0</td>\n",
       "      <td>2017-01-04</td>\n",
       "      <td>4</td>\n",
       "      <td>2.060987e+08</td>\n",
       "    </tr>\n",
       "    <tr>\n",
       "      <th>4</th>\n",
       "      <td>2017</td>\n",
       "      <td>207660929.0</td>\n",
       "      <td>206081432.0</td>\n",
       "      <td>1579497.0</td>\n",
       "      <td>2017-01-05</td>\n",
       "      <td>5</td>\n",
       "      <td>2.061031e+08</td>\n",
       "    </tr>\n",
       "    <tr>\n",
       "      <th>...</th>\n",
       "      <td>...</td>\n",
       "      <td>...</td>\n",
       "      <td>...</td>\n",
       "      <td>...</td>\n",
       "      <td>...</td>\n",
       "      <td>...</td>\n",
       "      <td>...</td>\n",
       "    </tr>\n",
       "    <tr>\n",
       "      <th>1576</th>\n",
       "      <td>2021</td>\n",
       "      <td>213317639.0</td>\n",
       "      <td>211755692.0</td>\n",
       "      <td>1561947.0</td>\n",
       "      <td>2021-04-26</td>\n",
       "      <td>116</td>\n",
       "      <td>2.122521e+08</td>\n",
       "    </tr>\n",
       "    <tr>\n",
       "      <th>1577</th>\n",
       "      <td>2021</td>\n",
       "      <td>213317639.0</td>\n",
       "      <td>211755692.0</td>\n",
       "      <td>1561947.0</td>\n",
       "      <td>2021-04-27</td>\n",
       "      <td>117</td>\n",
       "      <td>2.122564e+08</td>\n",
       "    </tr>\n",
       "    <tr>\n",
       "      <th>1578</th>\n",
       "      <td>2021</td>\n",
       "      <td>213317639.0</td>\n",
       "      <td>211755692.0</td>\n",
       "      <td>1561947.0</td>\n",
       "      <td>2021-04-28</td>\n",
       "      <td>118</td>\n",
       "      <td>2.122607e+08</td>\n",
       "    </tr>\n",
       "    <tr>\n",
       "      <th>1579</th>\n",
       "      <td>2021</td>\n",
       "      <td>213317639.0</td>\n",
       "      <td>211755692.0</td>\n",
       "      <td>1561947.0</td>\n",
       "      <td>2021-04-29</td>\n",
       "      <td>119</td>\n",
       "      <td>2.122649e+08</td>\n",
       "    </tr>\n",
       "    <tr>\n",
       "      <th>1580</th>\n",
       "      <td>2021</td>\n",
       "      <td>213317639.0</td>\n",
       "      <td>211755692.0</td>\n",
       "      <td>1561947.0</td>\n",
       "      <td>2021-04-30</td>\n",
       "      <td>120</td>\n",
       "      <td>2.122692e+08</td>\n",
       "    </tr>\n",
       "  </tbody>\n",
       "</table>\n",
       "<p>1581 rows × 7 columns</p>\n",
       "</div>"
      ],
      "text/plain": [
       "       ano    populacao  populacao_passado   variacao       Data  day_of_year  \\\n",
       "0     2017  207660929.0        206081432.0  1579497.0 2017-01-01            1   \n",
       "1     2017  207660929.0        206081432.0  1579497.0 2017-01-02            2   \n",
       "2     2017  207660929.0        206081432.0  1579497.0 2017-01-03            3   \n",
       "3     2017  207660929.0        206081432.0  1579497.0 2017-01-04            4   \n",
       "4     2017  207660929.0        206081432.0  1579497.0 2017-01-05            5   \n",
       "...    ...          ...                ...        ...        ...          ...   \n",
       "1576  2021  213317639.0        211755692.0  1561947.0 2021-04-26          116   \n",
       "1577  2021  213317639.0        211755692.0  1561947.0 2021-04-27          117   \n",
       "1578  2021  213317639.0        211755692.0  1561947.0 2021-04-28          118   \n",
       "1579  2021  213317639.0        211755692.0  1561947.0 2021-04-29          119   \n",
       "1580  2021  213317639.0        211755692.0  1561947.0 2021-04-30          120   \n",
       "\n",
       "      populacao_dia  \n",
       "0      2.060858e+08  \n",
       "1      2.060901e+08  \n",
       "2      2.060944e+08  \n",
       "3      2.060987e+08  \n",
       "4      2.061031e+08  \n",
       "...             ...  \n",
       "1576   2.122521e+08  \n",
       "1577   2.122564e+08  \n",
       "1578   2.122607e+08  \n",
       "1579   2.122649e+08  \n",
       "1580   2.122692e+08  \n",
       "\n",
       "[1581 rows x 7 columns]"
      ]
     },
     "execution_count": 73,
     "metadata": {},
     "output_type": "execute_result"
    }
   ],
   "source": [
    "df_pop[\"day_of_year\"]=df_pop[\"Data\"].dt.day_of_year\n",
    "df_pop[\"populacao_dia\"]=df_pop[\"populacao_passado\"] + df_pop[\"day_of_year\"]*df_pop[\"variacao\"]/365"
   ]
  },
  {
   "cell_type": "markdown",
   "id": "88af028d-ac16-4062-a6ab-7569270120ee",
   "metadata": {},
   "source": [
    "### Acquiring target information"
   ]
  },
  {
   "cell_type": "code",
   "execution_count": 11,
   "id": "b3e76183-4a1d-4b73-986e-6ebc83f4583b",
   "metadata": {},
   "outputs": [],
   "source": [
    "df_target = pd.read_csv('energy_demand_hourly_brazil.csv')"
   ]
  },
  {
   "cell_type": "code",
   "execution_count": 12,
   "id": "e798d988-57f8-4532-9f46-214b3efbdbe5",
   "metadata": {},
   "outputs": [],
   "source": [
    "df_target['Data'] = pd.to_datetime(df_target['index'])"
   ]
  },
  {
   "cell_type": "code",
   "execution_count": 13,
   "id": "6a9e7da7-248a-4064-943f-3e2bae85287a",
   "metadata": {},
   "outputs": [],
   "source": [
    "df_target['index'] = df_target['index'].apply(lambda x: x.split()[0])"
   ]
  },
  {
   "cell_type": "code",
   "execution_count": 14,
   "id": "f3bc8476-088f-4fa3-9fc1-a671bf4b9085",
   "metadata": {},
   "outputs": [],
   "source": [
    "df_target['Hora'] = df_target['Data'].dt.hour"
   ]
  },
  {
   "cell_type": "code",
   "execution_count": 15,
   "id": "a9a6d85e-cf52-41fe-9335-430fee775cc6",
   "metadata": {},
   "outputs": [],
   "source": [
    "df_target['Data'] = pd.to_datetime(df_target['index'])"
   ]
  },
  {
   "cell_type": "code",
   "execution_count": 16,
   "id": "07decd9b-f24b-44a2-87e7-220e43aeb9fc",
   "metadata": {},
   "outputs": [],
   "source": [
    "df_target.drop(columns=['index'], inplace=True)"
   ]
  },
  {
   "cell_type": "code",
   "execution_count": 17,
   "id": "5b990660-1fb2-4695-a598-66ecd652a2b1",
   "metadata": {},
   "outputs": [
    {
     "data": {
      "text/html": [
       "<div>\n",
       "<style scoped>\n",
       "    .dataframe tbody tr th:only-of-type {\n",
       "        vertical-align: middle;\n",
       "    }\n",
       "\n",
       "    .dataframe tbody tr th {\n",
       "        vertical-align: top;\n",
       "    }\n",
       "\n",
       "    .dataframe thead th {\n",
       "        text-align: right;\n",
       "    }\n",
       "</style>\n",
       "<table border=\"1\" class=\"dataframe\">\n",
       "  <thead>\n",
       "    <tr style=\"text-align: right;\">\n",
       "      <th></th>\n",
       "      <th>hourly_demand</th>\n",
       "      <th>Data</th>\n",
       "      <th>Hora</th>\n",
       "    </tr>\n",
       "  </thead>\n",
       "  <tbody>\n",
       "    <tr>\n",
       "      <th>0</th>\n",
       "      <td>34673.900</td>\n",
       "      <td>2000-01-01</td>\n",
       "      <td>0</td>\n",
       "    </tr>\n",
       "    <tr>\n",
       "      <th>1</th>\n",
       "      <td>33503.000</td>\n",
       "      <td>2000-01-01</td>\n",
       "      <td>1</td>\n",
       "    </tr>\n",
       "    <tr>\n",
       "      <th>2</th>\n",
       "      <td>32287.600</td>\n",
       "      <td>2000-01-01</td>\n",
       "      <td>2</td>\n",
       "    </tr>\n",
       "    <tr>\n",
       "      <th>3</th>\n",
       "      <td>31059.400</td>\n",
       "      <td>2000-01-01</td>\n",
       "      <td>3</td>\n",
       "    </tr>\n",
       "    <tr>\n",
       "      <th>4</th>\n",
       "      <td>30272.700</td>\n",
       "      <td>2000-01-01</td>\n",
       "      <td>4</td>\n",
       "    </tr>\n",
       "    <tr>\n",
       "      <th>...</th>\n",
       "      <td>...</td>\n",
       "      <td>...</td>\n",
       "      <td>...</td>\n",
       "    </tr>\n",
       "    <tr>\n",
       "      <th>201313</th>\n",
       "      <td>75825.344</td>\n",
       "      <td>2022-12-31</td>\n",
       "      <td>20</td>\n",
       "    </tr>\n",
       "    <tr>\n",
       "      <th>201314</th>\n",
       "      <td>69894.955</td>\n",
       "      <td>2022-12-31</td>\n",
       "      <td>21</td>\n",
       "    </tr>\n",
       "    <tr>\n",
       "      <th>201315</th>\n",
       "      <td>64612.355</td>\n",
       "      <td>2022-12-31</td>\n",
       "      <td>22</td>\n",
       "    </tr>\n",
       "    <tr>\n",
       "      <th>201316</th>\n",
       "      <td>61215.376</td>\n",
       "      <td>2022-12-31</td>\n",
       "      <td>23</td>\n",
       "    </tr>\n",
       "    <tr>\n",
       "      <th>201317</th>\n",
       "      <td>58900.643</td>\n",
       "      <td>2023-01-01</td>\n",
       "      <td>0</td>\n",
       "    </tr>\n",
       "  </tbody>\n",
       "</table>\n",
       "<p>201318 rows × 3 columns</p>\n",
       "</div>"
      ],
      "text/plain": [
       "        hourly_demand       Data  Hora\n",
       "0           34673.900 2000-01-01     0\n",
       "1           33503.000 2000-01-01     1\n",
       "2           32287.600 2000-01-01     2\n",
       "3           31059.400 2000-01-01     3\n",
       "4           30272.700 2000-01-01     4\n",
       "...               ...        ...   ...\n",
       "201313      75825.344 2022-12-31    20\n",
       "201314      69894.955 2022-12-31    21\n",
       "201315      64612.355 2022-12-31    22\n",
       "201316      61215.376 2022-12-31    23\n",
       "201317      58900.643 2023-01-01     0\n",
       "\n",
       "[201318 rows x 3 columns]"
      ]
     },
     "execution_count": 17,
     "metadata": {},
     "output_type": "execute_result"
    }
   ],
   "source": [
    "df_target"
   ]
  },
  {
   "cell_type": "markdown",
   "id": "c9bea5d0-e0cf-4eee-b4ed-0a9f47b4997f",
   "metadata": {},
   "source": [
    "## Joining bases"
   ]
  },
  {
   "cell_type": "code",
   "execution_count": 18,
   "id": "bb56adad-24e7-4f98-be69-7b2db2b3d62e",
   "metadata": {},
   "outputs": [],
   "source": [
    "df_final = pd.merge(df_target, df_weather, how='inner', on=['Data', 'Hora'])"
   ]
  },
  {
   "cell_type": "code",
   "execution_count": 74,
   "id": "fb977a3b",
   "metadata": {},
   "outputs": [],
   "source": [
    "df_final = pd.merge(df_final, df_pop[['Data','populacao_dia']], how='inner', on=['Data'])"
   ]
  },
  {
   "cell_type": "code",
   "execution_count": 75,
   "id": "3170822a-748e-4e3b-aba2-4dafc3a41d9e",
   "metadata": {},
   "outputs": [],
   "source": [
    "df_final.to_csv('df_final.csv', index=False)"
   ]
  }
 ],
 "metadata": {
  "kernelspec": {
   "display_name": "Python 3 (ipykernel)",
   "language": "python",
   "name": "python3"
  },
  "language_info": {
   "codemirror_mode": {
    "name": "ipython",
    "version": 3
   },
   "file_extension": ".py",
   "mimetype": "text/x-python",
   "name": "python",
   "nbconvert_exporter": "python",
   "pygments_lexer": "ipython3",
   "version": "3.9.7"
  }
 },
 "nbformat": 4,
 "nbformat_minor": 5
}
